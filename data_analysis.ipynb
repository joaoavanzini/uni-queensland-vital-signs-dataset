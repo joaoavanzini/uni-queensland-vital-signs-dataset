{
 "cells": [
  {
   "cell_type": "markdown",
   "source": [
    "# Libraries"
   ],
   "metadata": {
    "collapsed": false
   },
   "id": "efe07096a44dd114"
  },
  {
   "cell_type": "code",
   "execution_count": 10,
   "id": "initial_id",
   "metadata": {
    "collapsed": true,
    "ExecuteTime": {
     "end_time": "2023-10-19T20:14:26.675296Z",
     "start_time": "2023-10-19T20:14:23.836462Z"
    }
   },
   "outputs": [],
   "source": [
    "import pandas as pd\n",
    "import numpy as np\n",
    "import matplotlib.pyplot as plt"
   ]
  },
  {
   "cell_type": "code",
   "execution_count": 7,
   "outputs": [
    {
     "data": {
      "text/plain": "              Time  RelativeTimeMilliseconds  Clock    HR  ST-II  Pulse  SpO2  \\\n0     02:00:00_000                   7200000  19:33  51.0    NaN     51    98   \n1     02:00:00_010                   7200010  19:33  51.0    NaN     51    98   \n2     02:00:00_020                   7200020  19:33  51.0    NaN     51    98   \n3     02:00:00_030                   7200030  19:33  51.0    NaN     51    98   \n4     02:00:00_040                   7200040  19:33  51.0    NaN     51    98   \n...            ...                       ...    ...   ...    ...    ...   ...   \n1628  02:00:16_280                   7216280  19:33   NaN    NaN     51    99   \n1629  02:00:16_290                   7216290  19:33   NaN    NaN     51    99   \n1630  02:00:16_300                   7216300  19:33   NaN    NaN     51    99   \n1631  02:00:16_310                   7216310  19:33   NaN    NaN     51    99   \n1632  02:00:16_320                   7216320  19:33   NaN    NaN     51    99   \n\n      Perf  etCO2  imCO2  ...  EEG      AWP       AWF    AWV  AWP-Spiro  \\\n0      3.0     39      1  ...  NaN  8.20354  43.02551  630.2        NaN   \n1      3.0     39      1  ...  NaN  8.18365  43.15805  637.4        NaN   \n2      3.0     39      1  ...  NaN  8.16036  42.97751  644.6        NaN   \n3      3.0     39      1  ...  NaN  8.16700  42.43487  651.6        NaN   \n4      3.0     39      1  ...  NaN  8.13787  42.65852  658.7        NaN   \n...    ...    ...    ...  ...  ...      ...       ...    ...        ...   \n1628   1.3     39      1  ...  NaN  1.09375   0.01543   -0.7        NaN   \n1629   1.3     39      1  ...  NaN  1.09278  -0.00768   -0.7        NaN   \n1630   1.3     39      1  ...  NaN  1.08844  -0.00264   -0.7        NaN   \n1631   1.3     39      1  ...  NaN  1.10604   0.00000   -0.7        NaN   \n1632   1.3     39      1  ...  NaN  1.13345   0.00000   -0.7        NaN   \n\n      AWF-Spiro  AWV-Spiro  Num Patient Alarms  Num Technical Alarms  \\\n0           NaN        NaN                   0                     0   \n1           NaN        NaN                   0                     0   \n2           NaN        NaN                   0                     0   \n3           NaN        NaN                   0                     0   \n4           NaN        NaN                   0                     0   \n...         ...        ...                 ...                   ...   \n1628        NaN        NaN                   0                     0   \n1629        NaN        NaN                   0                     0   \n1630        NaN        NaN                   0                     0   \n1631        NaN        NaN                   0                     0   \n1632        NaN        NaN                   0                     0   \n\n      Alarms...  \n0           NaN  \n1           NaN  \n2           NaN  \n3           NaN  \n4           NaN  \n...         ...  \n1628        NaN  \n1629        NaN  \n1630        NaN  \n1631        NaN  \n1632        NaN  \n\n[1633 rows x 65 columns]",
      "text/html": "<div>\n<style scoped>\n    .dataframe tbody tr th:only-of-type {\n        vertical-align: middle;\n    }\n\n    .dataframe tbody tr th {\n        vertical-align: top;\n    }\n\n    .dataframe thead th {\n        text-align: right;\n    }\n</style>\n<table border=\"1\" class=\"dataframe\">\n  <thead>\n    <tr style=\"text-align: right;\">\n      <th></th>\n      <th>Time</th>\n      <th>RelativeTimeMilliseconds</th>\n      <th>Clock</th>\n      <th>HR</th>\n      <th>ST-II</th>\n      <th>Pulse</th>\n      <th>SpO2</th>\n      <th>Perf</th>\n      <th>etCO2</th>\n      <th>imCO2</th>\n      <th>...</th>\n      <th>EEG</th>\n      <th>AWP</th>\n      <th>AWF</th>\n      <th>AWV</th>\n      <th>AWP-Spiro</th>\n      <th>AWF-Spiro</th>\n      <th>AWV-Spiro</th>\n      <th>Num Patient Alarms</th>\n      <th>Num Technical Alarms</th>\n      <th>Alarms...</th>\n    </tr>\n  </thead>\n  <tbody>\n    <tr>\n      <th>0</th>\n      <td>02:00:00_000</td>\n      <td>7200000</td>\n      <td>19:33</td>\n      <td>51.0</td>\n      <td>NaN</td>\n      <td>51</td>\n      <td>98</td>\n      <td>3.0</td>\n      <td>39</td>\n      <td>1</td>\n      <td>...</td>\n      <td>NaN</td>\n      <td>8.20354</td>\n      <td>43.02551</td>\n      <td>630.2</td>\n      <td>NaN</td>\n      <td>NaN</td>\n      <td>NaN</td>\n      <td>0</td>\n      <td>0</td>\n      <td>NaN</td>\n    </tr>\n    <tr>\n      <th>1</th>\n      <td>02:00:00_010</td>\n      <td>7200010</td>\n      <td>19:33</td>\n      <td>51.0</td>\n      <td>NaN</td>\n      <td>51</td>\n      <td>98</td>\n      <td>3.0</td>\n      <td>39</td>\n      <td>1</td>\n      <td>...</td>\n      <td>NaN</td>\n      <td>8.18365</td>\n      <td>43.15805</td>\n      <td>637.4</td>\n      <td>NaN</td>\n      <td>NaN</td>\n      <td>NaN</td>\n      <td>0</td>\n      <td>0</td>\n      <td>NaN</td>\n    </tr>\n    <tr>\n      <th>2</th>\n      <td>02:00:00_020</td>\n      <td>7200020</td>\n      <td>19:33</td>\n      <td>51.0</td>\n      <td>NaN</td>\n      <td>51</td>\n      <td>98</td>\n      <td>3.0</td>\n      <td>39</td>\n      <td>1</td>\n      <td>...</td>\n      <td>NaN</td>\n      <td>8.16036</td>\n      <td>42.97751</td>\n      <td>644.6</td>\n      <td>NaN</td>\n      <td>NaN</td>\n      <td>NaN</td>\n      <td>0</td>\n      <td>0</td>\n      <td>NaN</td>\n    </tr>\n    <tr>\n      <th>3</th>\n      <td>02:00:00_030</td>\n      <td>7200030</td>\n      <td>19:33</td>\n      <td>51.0</td>\n      <td>NaN</td>\n      <td>51</td>\n      <td>98</td>\n      <td>3.0</td>\n      <td>39</td>\n      <td>1</td>\n      <td>...</td>\n      <td>NaN</td>\n      <td>8.16700</td>\n      <td>42.43487</td>\n      <td>651.6</td>\n      <td>NaN</td>\n      <td>NaN</td>\n      <td>NaN</td>\n      <td>0</td>\n      <td>0</td>\n      <td>NaN</td>\n    </tr>\n    <tr>\n      <th>4</th>\n      <td>02:00:00_040</td>\n      <td>7200040</td>\n      <td>19:33</td>\n      <td>51.0</td>\n      <td>NaN</td>\n      <td>51</td>\n      <td>98</td>\n      <td>3.0</td>\n      <td>39</td>\n      <td>1</td>\n      <td>...</td>\n      <td>NaN</td>\n      <td>8.13787</td>\n      <td>42.65852</td>\n      <td>658.7</td>\n      <td>NaN</td>\n      <td>NaN</td>\n      <td>NaN</td>\n      <td>0</td>\n      <td>0</td>\n      <td>NaN</td>\n    </tr>\n    <tr>\n      <th>...</th>\n      <td>...</td>\n      <td>...</td>\n      <td>...</td>\n      <td>...</td>\n      <td>...</td>\n      <td>...</td>\n      <td>...</td>\n      <td>...</td>\n      <td>...</td>\n      <td>...</td>\n      <td>...</td>\n      <td>...</td>\n      <td>...</td>\n      <td>...</td>\n      <td>...</td>\n      <td>...</td>\n      <td>...</td>\n      <td>...</td>\n      <td>...</td>\n      <td>...</td>\n      <td>...</td>\n    </tr>\n    <tr>\n      <th>1628</th>\n      <td>02:00:16_280</td>\n      <td>7216280</td>\n      <td>19:33</td>\n      <td>NaN</td>\n      <td>NaN</td>\n      <td>51</td>\n      <td>99</td>\n      <td>1.3</td>\n      <td>39</td>\n      <td>1</td>\n      <td>...</td>\n      <td>NaN</td>\n      <td>1.09375</td>\n      <td>0.01543</td>\n      <td>-0.7</td>\n      <td>NaN</td>\n      <td>NaN</td>\n      <td>NaN</td>\n      <td>0</td>\n      <td>0</td>\n      <td>NaN</td>\n    </tr>\n    <tr>\n      <th>1629</th>\n      <td>02:00:16_290</td>\n      <td>7216290</td>\n      <td>19:33</td>\n      <td>NaN</td>\n      <td>NaN</td>\n      <td>51</td>\n      <td>99</td>\n      <td>1.3</td>\n      <td>39</td>\n      <td>1</td>\n      <td>...</td>\n      <td>NaN</td>\n      <td>1.09278</td>\n      <td>-0.00768</td>\n      <td>-0.7</td>\n      <td>NaN</td>\n      <td>NaN</td>\n      <td>NaN</td>\n      <td>0</td>\n      <td>0</td>\n      <td>NaN</td>\n    </tr>\n    <tr>\n      <th>1630</th>\n      <td>02:00:16_300</td>\n      <td>7216300</td>\n      <td>19:33</td>\n      <td>NaN</td>\n      <td>NaN</td>\n      <td>51</td>\n      <td>99</td>\n      <td>1.3</td>\n      <td>39</td>\n      <td>1</td>\n      <td>...</td>\n      <td>NaN</td>\n      <td>1.08844</td>\n      <td>-0.00264</td>\n      <td>-0.7</td>\n      <td>NaN</td>\n      <td>NaN</td>\n      <td>NaN</td>\n      <td>0</td>\n      <td>0</td>\n      <td>NaN</td>\n    </tr>\n    <tr>\n      <th>1631</th>\n      <td>02:00:16_310</td>\n      <td>7216310</td>\n      <td>19:33</td>\n      <td>NaN</td>\n      <td>NaN</td>\n      <td>51</td>\n      <td>99</td>\n      <td>1.3</td>\n      <td>39</td>\n      <td>1</td>\n      <td>...</td>\n      <td>NaN</td>\n      <td>1.10604</td>\n      <td>0.00000</td>\n      <td>-0.7</td>\n      <td>NaN</td>\n      <td>NaN</td>\n      <td>NaN</td>\n      <td>0</td>\n      <td>0</td>\n      <td>NaN</td>\n    </tr>\n    <tr>\n      <th>1632</th>\n      <td>02:00:16_320</td>\n      <td>7216320</td>\n      <td>19:33</td>\n      <td>NaN</td>\n      <td>NaN</td>\n      <td>51</td>\n      <td>99</td>\n      <td>1.3</td>\n      <td>39</td>\n      <td>1</td>\n      <td>...</td>\n      <td>NaN</td>\n      <td>1.13345</td>\n      <td>0.00000</td>\n      <td>-0.7</td>\n      <td>NaN</td>\n      <td>NaN</td>\n      <td>NaN</td>\n      <td>0</td>\n      <td>0</td>\n      <td>NaN</td>\n    </tr>\n  </tbody>\n</table>\n<p>1633 rows × 65 columns</p>\n</div>"
     },
     "execution_count": 7,
     "metadata": {},
     "output_type": "execute_result"
    }
   ],
   "source": [
    "sub_13 = pd.read_csv('uq_vsd_case01_fulldata_13.csv', on_bad_lines='skip')\n",
    "sub_13"
   ],
   "metadata": {
    "collapsed": false,
    "ExecuteTime": {
     "end_time": "2023-10-19T20:09:17.743384Z",
     "start_time": "2023-10-19T20:09:17.689028Z"
    }
   },
   "id": "364718901c179922"
  },
  {
   "cell_type": "code",
   "execution_count": 8,
   "outputs": [
    {
     "name": "stdout",
     "output_type": "stream",
     "text": [
      "<class 'pandas.core.frame.DataFrame'>\n",
      "RangeIndex: 1633 entries, 0 to 1632\n",
      "Data columns (total 65 columns):\n",
      " #   Column                            Non-Null Count  Dtype  \n",
      "---  ------                            --------------  -----  \n",
      " 0   Time                              1633 non-null   object \n",
      " 1   RelativeTimeMilliseconds          1633 non-null   int64  \n",
      " 2   Clock                             1633 non-null   object \n",
      " 3   HR                                1510 non-null   float64\n",
      " 4   ST-II                             0 non-null      float64\n",
      " 5   Pulse                             1633 non-null   int64  \n",
      " 6   SpO2                              1633 non-null   int64  \n",
      " 7   Perf                              1633 non-null   float64\n",
      " 8   etCO2                             1633 non-null   int64  \n",
      " 9   imCO2                             1633 non-null   int64  \n",
      " 10  awRR                              1633 non-null   int64  \n",
      " 11  NBP (Sys)                         1633 non-null   int64  \n",
      " 12  NBP (Dia)                         1305 non-null   float64\n",
      " 13  NBP (Mean)                        1305 non-null   float64\n",
      " 14  NBP (Pulse)                       0 non-null      float64\n",
      " 15  NBP (Time Remaining)              0 non-null      float64\n",
      " 16  ART (Sys)                         0 non-null      float64\n",
      " 17  ART (Dia)                         0 non-null      float64\n",
      " 18  ART (Mean)                        0 non-null      float64\n",
      " 19  etDES                             0 non-null      float64\n",
      " 20  inDES                             0 non-null      float64\n",
      " 21  etISO                             0 non-null      float64\n",
      " 22  inISO                             0 non-null      float64\n",
      " 23  etSEV                             1633 non-null   float64\n",
      " 24  inSEV                             1633 non-null   float64\n",
      " 25  etN2O                             1633 non-null   float64\n",
      " 26  inN2O                             1633 non-null   float64\n",
      " 27  MAC                               1633 non-null   float64\n",
      " 28  etO2                              1633 non-null   int64  \n",
      " 29  inO2                              1633 non-null   int64  \n",
      " 30  Temp                              0 non-null      float64\n",
      " 31  BIS                               0 non-null      float64\n",
      " 32  SQI                               0 non-null      float64\n",
      " 33  EMG                               0 non-null      float64\n",
      " 34  Tidal Volume                      1633 non-null   int64  \n",
      " 35  Minute Volume                     1633 non-null   float64\n",
      " 36  RR                                1633 non-null   int64  \n",
      " 37  Set Tidal Volume                  0 non-null      float64\n",
      " 38  Set RR                            0 non-null      float64\n",
      " 39  Set I:E Ratio                     0 non-null      float64\n",
      " 40  Set PEEP                          0 non-null      float64\n",
      " 41  Set PAWmax                        0 non-null      float64\n",
      " 42  Set PAWmin                        0 non-null      float64\n",
      " 43  Set Mechanical Ventilation        0 non-null      float64\n",
      " 44  Tidal Volume Exp (Spiro)          0 non-null      float64\n",
      " 45  Tidal Volume In (Spiro)           0 non-null      float64\n",
      " 46  Minute Volume Exp (Spiro)         0 non-null      float64\n",
      " 47  Minute Volume In (Spiro)          0 non-null      float64\n",
      " 48  Lung Compliance (Spiro)           0 non-null      float64\n",
      " 49  Airway Resistance (Spiro)         0 non-null      float64\n",
      " 50  Max Inspiratory Pressure (Spiro)  0 non-null      float64\n",
      " 51  ECG                               1633 non-null   float64\n",
      " 52  Pleth                             1633 non-null   float64\n",
      " 53  CO2                               1633 non-null   float64\n",
      " 54  ART                               0 non-null      float64\n",
      " 55  EEG                               0 non-null      float64\n",
      " 56  AWP                               1633 non-null   float64\n",
      " 57  AWF                               1633 non-null   float64\n",
      " 58  AWV                               1633 non-null   float64\n",
      " 59  AWP-Spiro                         0 non-null      float64\n",
      " 60  AWF-Spiro                         0 non-null      float64\n",
      " 61  AWV-Spiro                         0 non-null      float64\n",
      " 62  Num Patient Alarms                1633 non-null   int64  \n",
      " 63  Num Technical Alarms              1633 non-null   int64  \n",
      " 64  Alarms...                         0 non-null      float64\n",
      "dtypes: float64(50), int64(13), object(2)\n",
      "memory usage: 829.4+ KB\n"
     ]
    }
   ],
   "source": [
    "sub_13.info()"
   ],
   "metadata": {
    "collapsed": false,
    "ExecuteTime": {
     "end_time": "2023-10-19T20:09:55.980688Z",
     "start_time": "2023-10-19T20:09:55.950869Z"
    }
   },
   "id": "3dc8fcdaba45b35"
  },
  {
   "cell_type": "code",
   "execution_count": 9,
   "outputs": [
    {
     "data": {
      "text/plain": "       RelativeTimeMilliseconds      HR  ST-II   Pulse         SpO2  \\\ncount              1.633000e+03  1510.0    0.0  1633.0  1633.000000   \nmean               7.208160e+06    51.0    NaN    51.0    98.890386   \nstd                4.715508e+03     0.0    NaN     0.0     0.312504   \nmin                7.200000e+06    51.0    NaN    51.0    98.000000   \n25%                7.204080e+06    51.0    NaN    51.0    99.000000   \n50%                7.208160e+06    51.0    NaN    51.0    99.000000   \n75%                7.212240e+06    51.0    NaN    51.0    99.000000   \nmax                7.216320e+06    51.0    NaN    51.0    99.000000   \n\n              Perf        etCO2   imCO2         awRR    NBP (Sys)  ...  EEG  \\\ncount  1633.000000  1633.000000  1633.0  1633.000000  1633.000000  ...  0.0   \nmean      2.514636    39.501531     1.0     6.423148    95.807716  ...  NaN   \nstd       0.662086     0.500151     0.0     0.494210     3.606879  ...  NaN   \nmin       1.300000    39.000000     1.0     6.000000    94.000000  ...  NaN   \n25%       2.000000    39.000000     1.0     6.000000    94.000000  ...  NaN   \n50%       2.700000    40.000000     1.0     6.000000    94.000000  ...  NaN   \n75%       3.000000    40.000000     1.0     7.000000    94.000000  ...  NaN   \nmax       3.100000    40.000000     1.0     7.000000   103.000000  ...  NaN   \n\n               AWP          AWF          AWV  AWP-Spiro  AWF-Spiro  AWV-Spiro  \\\ncount  1633.000000  1633.000000  1633.000000        0.0        0.0        0.0   \nmean      3.538154    -2.140813   283.112554        NaN        NaN        NaN   \nstd       2.128427    20.028641   320.495655        NaN        NaN        NaN   \nmin       0.781430   -36.934600    -0.700000        NaN        NaN        NaN   \n25%       2.353500   -17.807990    41.400000        NaN        NaN        NaN   \n50%       2.809180    -2.304810   121.000000        NaN        NaN        NaN   \n75%       3.714600    -0.218130   507.700000        NaN        NaN        NaN   \nmax       9.241920    51.693550  1102.000000        NaN        NaN        NaN   \n\n       Num Patient Alarms  Num Technical Alarms  Alarms...  \ncount              1633.0                1633.0        0.0  \nmean                  0.0                   0.0        NaN  \nstd                   0.0                   0.0        NaN  \nmin                   0.0                   0.0        NaN  \n25%                   0.0                   0.0        NaN  \n50%                   0.0                   0.0        NaN  \n75%                   0.0                   0.0        NaN  \nmax                   0.0                   0.0        NaN  \n\n[8 rows x 63 columns]",
      "text/html": "<div>\n<style scoped>\n    .dataframe tbody tr th:only-of-type {\n        vertical-align: middle;\n    }\n\n    .dataframe tbody tr th {\n        vertical-align: top;\n    }\n\n    .dataframe thead th {\n        text-align: right;\n    }\n</style>\n<table border=\"1\" class=\"dataframe\">\n  <thead>\n    <tr style=\"text-align: right;\">\n      <th></th>\n      <th>RelativeTimeMilliseconds</th>\n      <th>HR</th>\n      <th>ST-II</th>\n      <th>Pulse</th>\n      <th>SpO2</th>\n      <th>Perf</th>\n      <th>etCO2</th>\n      <th>imCO2</th>\n      <th>awRR</th>\n      <th>NBP (Sys)</th>\n      <th>...</th>\n      <th>EEG</th>\n      <th>AWP</th>\n      <th>AWF</th>\n      <th>AWV</th>\n      <th>AWP-Spiro</th>\n      <th>AWF-Spiro</th>\n      <th>AWV-Spiro</th>\n      <th>Num Patient Alarms</th>\n      <th>Num Technical Alarms</th>\n      <th>Alarms...</th>\n    </tr>\n  </thead>\n  <tbody>\n    <tr>\n      <th>count</th>\n      <td>1.633000e+03</td>\n      <td>1510.0</td>\n      <td>0.0</td>\n      <td>1633.0</td>\n      <td>1633.000000</td>\n      <td>1633.000000</td>\n      <td>1633.000000</td>\n      <td>1633.0</td>\n      <td>1633.000000</td>\n      <td>1633.000000</td>\n      <td>...</td>\n      <td>0.0</td>\n      <td>1633.000000</td>\n      <td>1633.000000</td>\n      <td>1633.000000</td>\n      <td>0.0</td>\n      <td>0.0</td>\n      <td>0.0</td>\n      <td>1633.0</td>\n      <td>1633.0</td>\n      <td>0.0</td>\n    </tr>\n    <tr>\n      <th>mean</th>\n      <td>7.208160e+06</td>\n      <td>51.0</td>\n      <td>NaN</td>\n      <td>51.0</td>\n      <td>98.890386</td>\n      <td>2.514636</td>\n      <td>39.501531</td>\n      <td>1.0</td>\n      <td>6.423148</td>\n      <td>95.807716</td>\n      <td>...</td>\n      <td>NaN</td>\n      <td>3.538154</td>\n      <td>-2.140813</td>\n      <td>283.112554</td>\n      <td>NaN</td>\n      <td>NaN</td>\n      <td>NaN</td>\n      <td>0.0</td>\n      <td>0.0</td>\n      <td>NaN</td>\n    </tr>\n    <tr>\n      <th>std</th>\n      <td>4.715508e+03</td>\n      <td>0.0</td>\n      <td>NaN</td>\n      <td>0.0</td>\n      <td>0.312504</td>\n      <td>0.662086</td>\n      <td>0.500151</td>\n      <td>0.0</td>\n      <td>0.494210</td>\n      <td>3.606879</td>\n      <td>...</td>\n      <td>NaN</td>\n      <td>2.128427</td>\n      <td>20.028641</td>\n      <td>320.495655</td>\n      <td>NaN</td>\n      <td>NaN</td>\n      <td>NaN</td>\n      <td>0.0</td>\n      <td>0.0</td>\n      <td>NaN</td>\n    </tr>\n    <tr>\n      <th>min</th>\n      <td>7.200000e+06</td>\n      <td>51.0</td>\n      <td>NaN</td>\n      <td>51.0</td>\n      <td>98.000000</td>\n      <td>1.300000</td>\n      <td>39.000000</td>\n      <td>1.0</td>\n      <td>6.000000</td>\n      <td>94.000000</td>\n      <td>...</td>\n      <td>NaN</td>\n      <td>0.781430</td>\n      <td>-36.934600</td>\n      <td>-0.700000</td>\n      <td>NaN</td>\n      <td>NaN</td>\n      <td>NaN</td>\n      <td>0.0</td>\n      <td>0.0</td>\n      <td>NaN</td>\n    </tr>\n    <tr>\n      <th>25%</th>\n      <td>7.204080e+06</td>\n      <td>51.0</td>\n      <td>NaN</td>\n      <td>51.0</td>\n      <td>99.000000</td>\n      <td>2.000000</td>\n      <td>39.000000</td>\n      <td>1.0</td>\n      <td>6.000000</td>\n      <td>94.000000</td>\n      <td>...</td>\n      <td>NaN</td>\n      <td>2.353500</td>\n      <td>-17.807990</td>\n      <td>41.400000</td>\n      <td>NaN</td>\n      <td>NaN</td>\n      <td>NaN</td>\n      <td>0.0</td>\n      <td>0.0</td>\n      <td>NaN</td>\n    </tr>\n    <tr>\n      <th>50%</th>\n      <td>7.208160e+06</td>\n      <td>51.0</td>\n      <td>NaN</td>\n      <td>51.0</td>\n      <td>99.000000</td>\n      <td>2.700000</td>\n      <td>40.000000</td>\n      <td>1.0</td>\n      <td>6.000000</td>\n      <td>94.000000</td>\n      <td>...</td>\n      <td>NaN</td>\n      <td>2.809180</td>\n      <td>-2.304810</td>\n      <td>121.000000</td>\n      <td>NaN</td>\n      <td>NaN</td>\n      <td>NaN</td>\n      <td>0.0</td>\n      <td>0.0</td>\n      <td>NaN</td>\n    </tr>\n    <tr>\n      <th>75%</th>\n      <td>7.212240e+06</td>\n      <td>51.0</td>\n      <td>NaN</td>\n      <td>51.0</td>\n      <td>99.000000</td>\n      <td>3.000000</td>\n      <td>40.000000</td>\n      <td>1.0</td>\n      <td>7.000000</td>\n      <td>94.000000</td>\n      <td>...</td>\n      <td>NaN</td>\n      <td>3.714600</td>\n      <td>-0.218130</td>\n      <td>507.700000</td>\n      <td>NaN</td>\n      <td>NaN</td>\n      <td>NaN</td>\n      <td>0.0</td>\n      <td>0.0</td>\n      <td>NaN</td>\n    </tr>\n    <tr>\n      <th>max</th>\n      <td>7.216320e+06</td>\n      <td>51.0</td>\n      <td>NaN</td>\n      <td>51.0</td>\n      <td>99.000000</td>\n      <td>3.100000</td>\n      <td>40.000000</td>\n      <td>1.0</td>\n      <td>7.000000</td>\n      <td>103.000000</td>\n      <td>...</td>\n      <td>NaN</td>\n      <td>9.241920</td>\n      <td>51.693550</td>\n      <td>1102.000000</td>\n      <td>NaN</td>\n      <td>NaN</td>\n      <td>NaN</td>\n      <td>0.0</td>\n      <td>0.0</td>\n      <td>NaN</td>\n    </tr>\n  </tbody>\n</table>\n<p>8 rows × 63 columns</p>\n</div>"
     },
     "execution_count": 9,
     "metadata": {},
     "output_type": "execute_result"
    }
   ],
   "source": [
    "sub_13.describe()"
   ],
   "metadata": {
    "collapsed": false,
    "ExecuteTime": {
     "end_time": "2023-10-19T20:10:41.976833Z",
     "start_time": "2023-10-19T20:10:41.931766Z"
    }
   },
   "id": "8a03e664422fa830"
  },
  {
   "cell_type": "code",
   "execution_count": null,
   "outputs": [],
   "source": [],
   "metadata": {
    "collapsed": false
   },
   "id": "30aa7ba606f01d1"
  }
 ],
 "metadata": {
  "kernelspec": {
   "display_name": "Python 3",
   "language": "python",
   "name": "python3"
  },
  "language_info": {
   "codemirror_mode": {
    "name": "ipython",
    "version": 2
   },
   "file_extension": ".py",
   "mimetype": "text/x-python",
   "name": "python",
   "nbconvert_exporter": "python",
   "pygments_lexer": "ipython2",
   "version": "2.7.6"
  }
 },
 "nbformat": 4,
 "nbformat_minor": 5
}
